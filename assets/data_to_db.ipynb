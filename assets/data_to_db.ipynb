{
 "cells": [
  {
   "cell_type": "code",
   "execution_count": 1,
   "id": "759dd144",
   "metadata": {},
   "outputs": [],
   "source": [
    "import pandas as pd"
   ]
  },
  {
   "cell_type": "code",
   "execution_count": 2,
   "id": "562b2a73",
   "metadata": {},
   "outputs": [],
   "source": [
    "df=pd.read_excel(r'C:\\Users\\kahma\\Downloads\\aircraft_parts_data.xlsx')"
   ]
  },
  {
   "cell_type": "code",
   "execution_count": 3,
   "id": "1dc14b15",
   "metadata": {},
   "outputs": [
    {
     "name": "stdout",
     "output_type": "stream",
     "text": [
      "Requirement already satisfied: sqlalchemy in c:\\users\\kahma\\appdata\\roaming\\python\\python39\\site-packages (1.4.43)\n",
      "Requirement already satisfied: greenlet!=0.4.17 in c:\\users\\kahma\\appdata\\roaming\\python\\python39\\site-packages (from sqlalchemy) (2.0.1)\n"
     ]
    },
    {
     "name": "stderr",
     "output_type": "stream",
     "text": [
      "\n",
      "[notice] A new release of pip available: 22.3.1 -> 23.1.2\n",
      "[notice] To update, run: python.exe -m pip install --upgrade pip\n"
     ]
    }
   ],
   "source": [
    "!pip install sqlalchemy"
   ]
  },
  {
   "cell_type": "code",
   "execution_count": 6,
   "id": "53947373",
   "metadata": {},
   "outputs": [],
   "source": [
    "from sqlalchemy import create_engine\n",
    "import urllib.parse\n",
    "\n",
    "# Set database connection details\n",
    "\n",
    "host= 'sql12.freesqldatabase.com'\n",
    "database= 'sql12617662'\n",
    "user= 'sql12617662'\n",
    "password= 'b5z686lzWZ'\n",
    "port = 3306\n",
    "    \n",
    "# Encode special characters in password\n",
    "password_encoded = urllib.parse.quote_plus(password)\n",
    "\n",
    "# Set chunk size for batch processing. required for large data\n",
    "chunksize = 10000\n",
    "\n",
    "# Load the DataFrame into a CSV file\n",
    "df.to_csv('db.csv', index=False)\n",
    "\n",
    "# Set up database connection\n",
    "engine = create_engine(f'mysql+mysqlconnector://{user}:{password_encoded}@{host}:{port}/{database}?connect_timeout=100000&pool_size=4')\n",
    "\n",
    "# Load the CSV file into a MySQL table in batches\n",
    "for chunk in pd.read_csv('db.csv', chunksize=chunksize, low_memory=False):\n",
    "    chunk.to_sql(name='data', con=engine, if_exists='append', index=False)\n",
    "\n",
    "# Close the database connection\n",
    "engine.dispose()"
   ]
  }
 ],
 "metadata": {
  "kernelspec": {
   "display_name": "Python 3 (ipykernel)",
   "language": "python",
   "name": "python3"
  },
  "language_info": {
   "codemirror_mode": {
    "name": "ipython",
    "version": 3
   },
   "file_extension": ".py",
   "mimetype": "text/x-python",
   "name": "python",
   "nbconvert_exporter": "python",
   "pygments_lexer": "ipython3",
   "version": "3.9.12"
  }
 },
 "nbformat": 4,
 "nbformat_minor": 5
}
